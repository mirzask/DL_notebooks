{
 "cells": [
  {
   "cell_type": "markdown",
   "metadata": {},
   "source": [
    "# Tensors\n",
    "\n",
    "`numpy` ndarrays that are optimized for use on GPU. To run a PyTorch Tensor on GPU, you use the `device` argument when constructing a Tensor to place the Tensor on a GPU.\n",
    "\n",
    "```python\n",
    "torch.device('cuda') # for GPU\n",
    "torch.device('cpu') # for CPU\n",
    "```\n",
    "\n",
    "\n",
    "\n",
    "- A vector is a tensor of rank 1.\n",
    "- A matrix is a tensor of rank 2.\n",
    "- A color image is a tensor of rank 3.\n",
    "\n",
    "![](https://nbviewer.jupyter.org/github/robert-alvarez/pytorch_tutorial/blob/master/data/img/tensor_viz.jpeg)"
   ]
  },
  {
   "cell_type": "code",
   "execution_count": 2,
   "metadata": {},
   "outputs": [],
   "source": [
    "from __future__ import print_function\n",
    "import torch\n",
    "import numpy as np"
   ]
  },
  {
   "cell_type": "code",
   "execution_count": 60,
   "metadata": {},
   "outputs": [
    {
     "data": {
      "text/plain": [
       "True"
      ]
     },
     "execution_count": 60,
     "metadata": {},
     "output_type": "execute_result"
    }
   ],
   "source": [
    "torch.cuda.is_available()"
   ]
  },
  {
   "cell_type": "code",
   "execution_count": 62,
   "metadata": {},
   "outputs": [
    {
     "data": {
      "text/plain": [
       "'GeForce GTX TITAN X'"
      ]
     },
     "execution_count": 62,
     "metadata": {},
     "output_type": "execute_result"
    }
   ],
   "source": [
    "torch.cuda.get_device_name()"
   ]
  },
  {
   "cell_type": "code",
   "execution_count": 4,
   "metadata": {},
   "outputs": [],
   "source": [
    "device = torch.device('cpu')\n",
    "# device = torch.device('cuda') # Uncomment this to run on GPU"
   ]
  },
  {
   "cell_type": "markdown",
   "metadata": {},
   "source": [
    "### Tensor Types\n",
    "\n",
    "Torch defines eight CPU tensor types and eight GPU tensor types:\n",
    "\n",
    "| Data type                | dtype                             | CPU Tensor           | GPU Tensor                |\n",
    "|--------------------------|-----------------------------------|----------------------|---------------------------|\n",
    "| 32-bit floating point    | `torch.float32` or `torch.float`  | `torch.FloatTensor`  | `torch.cuda.FloatTensor`  |\n",
    "| 64-bit floating point    | `torch.float64` or `torch.double` | `torch.DoubleTensor` | `torch.cuda.DoubleTensor` |\n",
    "| 16-bit floating point    | `torch.float16` or `torch.half`   | `torch.HalfTensor`   | `torch.cuda.HalfTensor`   |\n",
    "| 8-bit integer (unsigned) | `torch.uint8`                     | `torch.ByteTensor`   | `torch.cuda.ByteTensor`   |\n",
    "| 8-bit integer (signed)   | `torch.int8`                      | `torch.CharTensor`   | `torch.cuda.CharTensor`   |\n",
    "| 16-bit integer (signed)  | `torch.int16` or `torch.short`    | `torch.ShortTensor`  | `torch.cuda.ShortTensor`  |\n",
    "| 32-bit integer (signed)  | `torch.int32` or `torch.int`      | `torch.IntTensor`    | `torch.cuda.IntTensor`    |\n",
    "| 64-bit integer (signed)  | `torch.int64` or `torch.long`     | `torch.LongTensor`   | `torch.cuda.LongTensor`   |\n",
    "\n",
    "**Note**: Tensor types need to match when doing calculations with them."
   ]
  },
  {
   "cell_type": "markdown",
   "metadata": {},
   "source": [
    "# Creating a matrix - NumPy vs PyTorch\n",
    "\n",
    "1. From scratch: Use similar methods to numpy, e.g. `torch.zeros`, `torch.ones`, `torch.empty`\n",
    "2. From existing tensor: reuses properties of the input/existing tensor, e.g. dtype, unless otherwise specified\n",
    "    - Use `new_*` methods\n",
    "    - Use `torch.*_like` methods\n",
    "\n",
    "## A matrix of zeroes"
   ]
  },
  {
   "cell_type": "code",
   "execution_count": 5,
   "metadata": {},
   "outputs": [
    {
     "data": {
      "text/plain": [
       "array([[0., 0., 0.],\n",
       "       [0., 0., 0.],\n",
       "       [0., 0., 0.],\n",
       "       [0., 0., 0.],\n",
       "       [0., 0., 0.]])"
      ]
     },
     "execution_count": 5,
     "metadata": {},
     "output_type": "execute_result"
    }
   ],
   "source": [
    "# numpy approach\n",
    "np.zeros((5,3), dtype=np.float64)"
   ]
  },
  {
   "cell_type": "code",
   "execution_count": 6,
   "metadata": {},
   "outputs": [
    {
     "data": {
      "text/plain": [
       "tensor([[0., 0., 0.],\n",
       "        [0., 0., 0.],\n",
       "        [0., 0., 0.],\n",
       "        [0., 0., 0.],\n",
       "        [0., 0., 0.]], dtype=torch.float64)"
      ]
     },
     "execution_count": 6,
     "metadata": {},
     "output_type": "execute_result"
    }
   ],
   "source": [
    "# PyTorch approach\n",
    "torch.zeros((5,3), dtype=torch.float64)\n",
    "\n",
    "# # This also works\n",
    "# torch.zeros(5,3, dtype=torch.float64)"
   ]
  },
  {
   "cell_type": "code",
   "execution_count": 35,
   "metadata": {},
   "outputs": [
    {
     "name": "stdout",
     "output_type": "stream",
     "text": [
      "tensor([[0., 0., 0.],\n",
      "        [0., 0., 0.],\n",
      "        [0., 0., 0.],\n",
      "        [0., 0., 0.],\n",
      "        [0., 0., 0.]])\n",
      "tensor([[1., 1., 1.],\n",
      "        [1., 1., 1.],\n",
      "        [1., 1., 1.],\n",
      "        [1., 1., 1.],\n",
      "        [1., 1., 1.]])\n",
      "tensor([[0.6125, 0.4755, 0.7134],\n",
      "        [0.8187, 0.0770, 0.6129],\n",
      "        [0.4781, 0.7688, 0.0762],\n",
      "        [0.2063, 0.0355, 0.1709],\n",
      "        [0.5997, 0.4841, 0.4456]])\n"
     ]
    }
   ],
   "source": [
    "x0 = torch.zeros(5, 3)\n",
    "print(x0)\n",
    "\n",
    "# Create a matrix of 1s from \n",
    "x1 = x0.new_ones(5, 3) # specify size/dim\n",
    "print(x1)\n",
    "\n",
    "x1_ = torch.rand_like(x)\n",
    "print(x1_)"
   ]
  },
  {
   "cell_type": "markdown",
   "metadata": {},
   "source": [
    "## An \"empty\" matrix"
   ]
  },
  {
   "cell_type": "code",
   "execution_count": 10,
   "metadata": {},
   "outputs": [
    {
     "data": {
      "text/plain": [
       "array([[0., 0., 0.],\n",
       "       [0., 0., 0.],\n",
       "       [0., 0., 0.],\n",
       "       [0., 0., 0.],\n",
       "       [0., 0., 0.]])"
      ]
     },
     "execution_count": 10,
     "metadata": {},
     "output_type": "execute_result"
    }
   ],
   "source": [
    "np.empty((5,3))"
   ]
  },
  {
   "cell_type": "code",
   "execution_count": 8,
   "metadata": {},
   "outputs": [
    {
     "data": {
      "text/plain": [
       "tensor([[-2.6232e-14,  0.0000e+00, -2.6232e-14],\n",
       "        [ 0.0000e+00,         nan,  0.0000e+00],\n",
       "        [ 1.7753e+28,  4.4339e+27,  1.3848e-14],\n",
       "        [ 6.8801e+16,  1.8370e+25,  1.4603e-19],\n",
       "        [ 6.8794e+11,  2.7253e+20,  3.0866e+29]])"
      ]
     },
     "execution_count": 8,
     "metadata": {},
     "output_type": "execute_result"
    }
   ],
   "source": [
    "torch.empty(5,3)"
   ]
  },
  {
   "cell_type": "markdown",
   "metadata": {},
   "source": [
    "## A matrix of random digits"
   ]
  },
  {
   "cell_type": "code",
   "execution_count": 12,
   "metadata": {},
   "outputs": [
    {
     "data": {
      "text/plain": [
       "array([[0.51528739, 0.049013  , 0.79415781],\n",
       "       [0.0246596 , 0.88116879, 0.16948178],\n",
       "       [0.55686797, 0.19753631, 0.66453021],\n",
       "       [0.10042355, 0.0503528 , 0.88689164],\n",
       "       [0.20948676, 0.87979173, 0.26528184]])"
      ]
     },
     "execution_count": 12,
     "metadata": {},
     "output_type": "execute_result"
    }
   ],
   "source": [
    "np.random.rand(5,3)"
   ]
  },
  {
   "cell_type": "code",
   "execution_count": 13,
   "metadata": {},
   "outputs": [
    {
     "data": {
      "text/plain": [
       "tensor([[0.8021, 0.9577, 0.3992],\n",
       "        [0.7849, 0.4673, 0.3456],\n",
       "        [0.2115, 0.0196, 0.5886],\n",
       "        [0.1148, 0.9573, 0.9425],\n",
       "        [0.9122, 0.7613, 0.5390]])"
      ]
     },
     "execution_count": 13,
     "metadata": {},
     "output_type": "execute_result"
    }
   ],
   "source": [
    "torch.rand(5,3)"
   ]
  },
  {
   "cell_type": "markdown",
   "metadata": {},
   "source": [
    "## Create vector, matrix, etc. with your own values"
   ]
  },
  {
   "cell_type": "code",
   "execution_count": 23,
   "metadata": {},
   "outputs": [
    {
     "data": {
      "text/plain": [
       "array([1., 2., 3.])"
      ]
     },
     "execution_count": 23,
     "metadata": {},
     "output_type": "execute_result"
    }
   ],
   "source": [
    "np.array([1., 2, 3])"
   ]
  },
  {
   "cell_type": "code",
   "execution_count": 24,
   "metadata": {},
   "outputs": [
    {
     "data": {
      "text/plain": [
       "tensor([1., 2., 3.])"
      ]
     },
     "execution_count": 24,
     "metadata": {},
     "output_type": "execute_result"
    }
   ],
   "source": [
    "torch.tensor([1., 2, 3])"
   ]
  },
  {
   "cell_type": "markdown",
   "metadata": {},
   "source": [
    "# Get the size and dimensions of a PyTorch Tensor"
   ]
  },
  {
   "cell_type": "code",
   "execution_count": 36,
   "metadata": {},
   "outputs": [
    {
     "data": {
      "text/plain": [
       "tensor([[0., 0., 0.],\n",
       "        [0., 0., 0.],\n",
       "        [0., 0., 0.],\n",
       "        [0., 0., 0.],\n",
       "        [0., 0., 0.]])"
      ]
     },
     "execution_count": 36,
     "metadata": {},
     "output_type": "execute_result"
    }
   ],
   "source": [
    "x"
   ]
  },
  {
   "cell_type": "markdown",
   "metadata": {},
   "source": [
    "Here, we have `x`, which is a $5 \\times 3$ matrix. A matrix is a tensor of rank 2.\n",
    "\n",
    "Thus, for the `size()` method, we expect $5 \\times 3$. And for the `dim()` method, we expect to get 2."
   ]
  },
  {
   "cell_type": "code",
   "execution_count": 37,
   "metadata": {},
   "outputs": [
    {
     "data": {
      "text/plain": [
       "torch.Size([5, 3])"
      ]
     },
     "execution_count": 37,
     "metadata": {},
     "output_type": "execute_result"
    }
   ],
   "source": [
    "x.size()"
   ]
  },
  {
   "cell_type": "code",
   "execution_count": 39,
   "metadata": {},
   "outputs": [
    {
     "data": {
      "text/plain": [
       "2"
      ]
     },
     "execution_count": 39,
     "metadata": {},
     "output_type": "execute_result"
    }
   ],
   "source": [
    "x.dim()"
   ]
  },
  {
   "cell_type": "markdown",
   "metadata": {},
   "source": [
    "# Resize/Reshape Tensors"
   ]
  },
  {
   "cell_type": "code",
   "execution_count": 58,
   "metadata": {},
   "outputs": [
    {
     "name": "stdout",
     "output_type": "stream",
     "text": [
      "torch.Size([4, 4]) torch.Size([16]) torch.Size([2, 8])\n"
     ]
    }
   ],
   "source": [
    "x = torch.randn(4, 4)\n",
    "y = x.view(16)\n",
    "z = x.view(-1, 8)  # the size -1 is inferred from other dimensions\n",
    "\n",
    "print(x.size(), y.size(), z.size())"
   ]
  },
  {
   "cell_type": "markdown",
   "metadata": {},
   "source": [
    "# Convert NumPy object to PyTorch\n",
    "\n",
    "Use `torch.from_numpy(numpy_object)`"
   ]
  },
  {
   "cell_type": "code",
   "execution_count": 21,
   "metadata": {},
   "outputs": [
    {
     "name": "stdout",
     "output_type": "stream",
     "text": [
      "[[0.84332758 0.98881949 0.06982325]\n",
      " [0.00865982 0.90165759 0.73502228]\n",
      " [0.98176297 0.15603668 0.18963717]\n",
      " [0.68240848 0.52178566 0.78008898]\n",
      " [0.03374405 0.20741808 0.21573672]]\n",
      "<class 'numpy.ndarray'>\n",
      "float64\n"
     ]
    }
   ],
   "source": [
    "mat_np = np.random.rand(5, 3)\n",
    "print(mat_np)\n",
    "\n",
    "# What type of object is it? Numpy ndarray\n",
    "print(type(mat_np))\n",
    "\n",
    "# What datatype does it hold?\n",
    "print(mat_np.dtype)"
   ]
  },
  {
   "cell_type": "code",
   "execution_count": 22,
   "metadata": {},
   "outputs": [
    {
     "name": "stdout",
     "output_type": "stream",
     "text": [
      "tensor([[0.8433, 0.9888, 0.0698],\n",
      "        [0.0087, 0.9017, 0.7350],\n",
      "        [0.9818, 0.1560, 0.1896],\n",
      "        [0.6824, 0.5218, 0.7801],\n",
      "        [0.0337, 0.2074, 0.2157]], dtype=torch.float64)\n",
      "<class 'torch.Tensor'>\n",
      "torch.float64\n"
     ]
    }
   ],
   "source": [
    "mat_torch = torch.from_numpy(mat_np)\n",
    "print(mat_torch)\n",
    "\n",
    "# What type of object is it? torch Tensor object\n",
    "print(type(mat_torch))\n",
    "\n",
    "# What datatype does it hold?\n",
    "print(mat_torch.dtype)"
   ]
  },
  {
   "cell_type": "markdown",
   "metadata": {},
   "source": [
    "We can also convert a Tensor object to a NumPy array using `tensor_obj.numpy()`"
   ]
  },
  {
   "cell_type": "code",
   "execution_count": 59,
   "metadata": {},
   "outputs": [
    {
     "name": "stdout",
     "output_type": "stream",
     "text": [
      "[[0.84332758 0.98881949 0.06982325]\n",
      " [0.00865982 0.90165759 0.73502228]\n",
      " [0.98176297 0.15603668 0.18963717]\n",
      " [0.68240848 0.52178566 0.78008898]\n",
      " [0.03374405 0.20741808 0.21573672]]\n",
      "<class 'numpy.ndarray'>\n",
      "float64\n"
     ]
    }
   ],
   "source": [
    "back_to_np = mat_torch.numpy()\n",
    "\n",
    "print(back_to_np)\n",
    "print(type(back_to_np))\n",
    "print(back_to_np.dtype)"
   ]
  },
  {
   "cell_type": "markdown",
   "metadata": {},
   "source": [
    "# Tensor Operations\n",
    "\n",
    "Operations require that the tensors be of the **same** `dtype`.\n",
    "\n",
    "> In-place operations are followed by `_`, e.g. `y.add_(x)`, `x.copy_(z)`, `x.t_()`, etc.\n",
    "\n",
    "Many methods:\n",
    "1. `x + y`\n",
    "2. `torch.add(x, y)`\n",
    "3. Specify output tensor as argument: `torch.add(x, y, out=result)`\n",
    "4. In-place: `y.add_(x)`"
   ]
  },
  {
   "cell_type": "code",
   "execution_count": 3,
   "metadata": {},
   "outputs": [
    {
     "data": {
      "text/plain": [
       "tensor([55.])"
      ]
     },
     "execution_count": 3,
     "metadata": {},
     "output_type": "execute_result"
    }
   ],
   "source": [
    "# A simple scalar addition\n",
    "\n",
    "a = torch.FloatTensor([25])\n",
    "b = torch.FloatTensor([30])\n",
    "a + b"
   ]
  },
  {
   "cell_type": "code",
   "execution_count": 46,
   "metadata": {},
   "outputs": [
    {
     "name": "stdout",
     "output_type": "stream",
     "text": [
      "tensor([[0.7090, 0.3558, 0.0311],\n",
      "        [0.3595, 0.4152, 0.0768],\n",
      "        [1.0000, 0.7450, 0.8626],\n",
      "        [0.5891, 0.8865, 0.8365],\n",
      "        [0.6874, 0.5196, 0.7810]])\n",
      "tensor([[0.5275, 0.9804, 0.9429],\n",
      "        [0.1157, 0.7526, 0.2263],\n",
      "        [0.3695, 0.0267, 0.4869],\n",
      "        [0.9262, 0.9641, 0.0823],\n",
      "        [0.2127, 0.9634, 0.1369]])\n"
     ]
    }
   ],
   "source": [
    "x = torch.rand(5, 3)\n",
    "y = torch.rand(5, 3)\n",
    "print(x)\n",
    "print(y)"
   ]
  },
  {
   "cell_type": "code",
   "execution_count": 55,
   "metadata": {},
   "outputs": [
    {
     "data": {
      "text/plain": [
       "tensor([[1.2365, 1.3362, 0.9740],\n",
       "        [0.4751, 1.1677, 0.3031],\n",
       "        [1.3694, 0.7717, 1.3495],\n",
       "        [1.5154, 1.8505, 0.9188],\n",
       "        [0.9000, 1.4830, 0.9179]])"
      ]
     },
     "execution_count": 55,
     "metadata": {},
     "output_type": "execute_result"
    }
   ],
   "source": [
    "x + y"
   ]
  },
  {
   "cell_type": "code",
   "execution_count": 48,
   "metadata": {},
   "outputs": [
    {
     "data": {
      "text/plain": [
       "tensor([[1.2365, 1.3362, 0.9740],\n",
       "        [0.4751, 1.1677, 0.3031],\n",
       "        [1.3694, 0.7717, 1.3495],\n",
       "        [1.5154, 1.8505, 0.9188],\n",
       "        [0.9000, 1.4830, 0.9179]])"
      ]
     },
     "execution_count": 48,
     "metadata": {},
     "output_type": "execute_result"
    }
   ],
   "source": [
    "torch.add(x, y)"
   ]
  },
  {
   "cell_type": "code",
   "execution_count": 49,
   "metadata": {},
   "outputs": [
    {
     "name": "stdout",
     "output_type": "stream",
     "text": [
      "tensor([[1.2365, 1.3362, 0.9740],\n",
      "        [0.4751, 1.1677, 0.3031],\n",
      "        [1.3694, 0.7717, 1.3495],\n",
      "        [1.5154, 1.8505, 0.9188],\n",
      "        [0.9000, 1.4830, 0.9179]])\n"
     ]
    }
   ],
   "source": [
    "result = torch.zeros(5, 3)\n",
    "torch.add(x, y, out=result)\n",
    "print(result)"
   ]
  },
  {
   "cell_type": "code",
   "execution_count": 56,
   "metadata": {},
   "outputs": [
    {
     "data": {
      "text/plain": [
       "tensor([[1.2365, 1.3362, 0.9740],\n",
       "        [0.4751, 1.1677, 0.3031],\n",
       "        [1.3694, 0.7717, 1.3495],\n",
       "        [1.5154, 1.8505, 0.9188],\n",
       "        [0.9000, 1.4830, 0.9179]])"
      ]
     },
     "execution_count": 56,
     "metadata": {},
     "output_type": "execute_result"
    }
   ],
   "source": [
    "y.add_(x)"
   ]
  }
 ],
 "metadata": {
  "kernelspec": {
   "display_name": "Python (sami)",
   "language": "python",
   "name": "sami"
  },
  "language_info": {
   "codemirror_mode": {
    "name": "ipython",
    "version": 3
   },
   "file_extension": ".py",
   "mimetype": "text/x-python",
   "name": "python",
   "nbconvert_exporter": "python",
   "pygments_lexer": "ipython3",
   "version": "3.6.3"
  }
 },
 "nbformat": 4,
 "nbformat_minor": 2
}
